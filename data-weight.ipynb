{
 "cells": [
  {
   "cell_type": "code",
   "execution_count": 30,
   "metadata": {},
   "outputs": [],
   "source": [
    "import math\n",
    "import os\n",
    "import pandas as pd"
   ]
  },
  {
   "cell_type": "markdown",
   "metadata": {},
   "source": [
    "# Details about my project.\n",
    "\n",
    "This Project notebook is a continuation of the daily_data_usage_analysis project.\n",
    "Here I am going to demonstrate the size of data generated each day \n",
    "\n",
    "I am going to continue with the obtained values from my previous(part-1) project,Although there is room for improvement.\n",
    "\n",
    "The outcomes i am going to establish are:\n",
    "-> The disk capacity required to store this data\n",
    "-> No of disks, each disk size\n",
    "-> power required\n",
    "-> no of servers -> how many CPUs -> how many users per Cpu -> response time"
   ]
  },
  {
   "cell_type": "code",
   "execution_count": 31,
   "metadata": {},
   "outputs": [
    {
     "name": "stdout",
     "output_type": "stream",
     "text": [
      "<class 'pandas.core.frame.DataFrame'>\n",
      "RangeIndex: 215 entries, 0 to 214\n",
      "Data columns (total 6 columns):\n",
      "Country or Area    215 non-null object\n",
      "Internet Users     215 non-null object\n",
      "Population         215 non-null object\n",
      "Rank               215 non-null int64\n",
      "Percentage         215 non-null object\n",
      "Rank.1             215 non-null object\n",
      "dtypes: int64(1), object(5)\n",
      "memory usage: 10.2+ KB\n"
     ]
    },
    {
     "data": {
      "text/html": [
       "<div>\n",
       "<style scoped>\n",
       "    .dataframe tbody tr th:only-of-type {\n",
       "        vertical-align: middle;\n",
       "    }\n",
       "\n",
       "    .dataframe tbody tr th {\n",
       "        vertical-align: top;\n",
       "    }\n",
       "\n",
       "    .dataframe thead th {\n",
       "        text-align: right;\n",
       "    }\n",
       "</style>\n",
       "<table border=\"1\" class=\"dataframe\">\n",
       "  <thead>\n",
       "    <tr style=\"text-align: right;\">\n",
       "      <th></th>\n",
       "      <th>Country or Area</th>\n",
       "      <th>Internet Users</th>\n",
       "      <th>Population</th>\n",
       "      <th>Rank</th>\n",
       "      <th>Percentage</th>\n",
       "      <th>Rank.1</th>\n",
       "    </tr>\n",
       "  </thead>\n",
       "  <tbody>\n",
       "    <tr>\n",
       "      <td>count</td>\n",
       "      <td>215</td>\n",
       "      <td>215</td>\n",
       "      <td>215</td>\n",
       "      <td>215.000000</td>\n",
       "      <td>215</td>\n",
       "      <td>215</td>\n",
       "    </tr>\n",
       "    <tr>\n",
       "      <td>unique</td>\n",
       "      <td>215</td>\n",
       "      <td>215</td>\n",
       "      <td>215</td>\n",
       "      <td>NaN</td>\n",
       "      <td>210</td>\n",
       "      <td>210</td>\n",
       "    </tr>\n",
       "    <tr>\n",
       "      <td>top</td>\n",
       "      <td>Laos</td>\n",
       "      <td>461,347,554</td>\n",
       "      <td>18,269,868</td>\n",
       "      <td>NaN</td>\n",
       "      <td>37.60% (2012)</td>\n",
       "      <td>-</td>\n",
       "    </tr>\n",
       "    <tr>\n",
       "      <td>freq</td>\n",
       "      <td>1</td>\n",
       "      <td>1</td>\n",
       "      <td>1</td>\n",
       "      <td>NaN</td>\n",
       "      <td>2</td>\n",
       "      <td>6</td>\n",
       "    </tr>\n",
       "    <tr>\n",
       "      <td>mean</td>\n",
       "      <td>NaN</td>\n",
       "      <td>NaN</td>\n",
       "      <td>NaN</td>\n",
       "      <td>108.000000</td>\n",
       "      <td>NaN</td>\n",
       "      <td>NaN</td>\n",
       "    </tr>\n",
       "    <tr>\n",
       "      <td>std</td>\n",
       "      <td>NaN</td>\n",
       "      <td>NaN</td>\n",
       "      <td>NaN</td>\n",
       "      <td>62.209324</td>\n",
       "      <td>NaN</td>\n",
       "      <td>NaN</td>\n",
       "    </tr>\n",
       "    <tr>\n",
       "      <td>min</td>\n",
       "      <td>NaN</td>\n",
       "      <td>NaN</td>\n",
       "      <td>NaN</td>\n",
       "      <td>1.000000</td>\n",
       "      <td>NaN</td>\n",
       "      <td>NaN</td>\n",
       "    </tr>\n",
       "    <tr>\n",
       "      <td>25%</td>\n",
       "      <td>NaN</td>\n",
       "      <td>NaN</td>\n",
       "      <td>NaN</td>\n",
       "      <td>54.500000</td>\n",
       "      <td>NaN</td>\n",
       "      <td>NaN</td>\n",
       "    </tr>\n",
       "    <tr>\n",
       "      <td>50%</td>\n",
       "      <td>NaN</td>\n",
       "      <td>NaN</td>\n",
       "      <td>NaN</td>\n",
       "      <td>108.000000</td>\n",
       "      <td>NaN</td>\n",
       "      <td>NaN</td>\n",
       "    </tr>\n",
       "    <tr>\n",
       "      <td>75%</td>\n",
       "      <td>NaN</td>\n",
       "      <td>NaN</td>\n",
       "      <td>NaN</td>\n",
       "      <td>161.500000</td>\n",
       "      <td>NaN</td>\n",
       "      <td>NaN</td>\n",
       "    </tr>\n",
       "    <tr>\n",
       "      <td>max</td>\n",
       "      <td>NaN</td>\n",
       "      <td>NaN</td>\n",
       "      <td>NaN</td>\n",
       "      <td>215.000000</td>\n",
       "      <td>NaN</td>\n",
       "      <td>NaN</td>\n",
       "    </tr>\n",
       "  </tbody>\n",
       "</table>\n",
       "</div>"
      ],
      "text/plain": [
       "       Country or Area Internet Users  Population        Rank     Percentage  \\\n",
       "count              215            215         215  215.000000            215   \n",
       "unique             215            215         215         NaN            210   \n",
       "top               Laos    461,347,554  18,269,868         NaN  37.60% (2012)   \n",
       "freq                 1              1           1         NaN              2   \n",
       "mean               NaN            NaN         NaN  108.000000            NaN   \n",
       "std                NaN            NaN         NaN   62.209324            NaN   \n",
       "min                NaN            NaN         NaN    1.000000            NaN   \n",
       "25%                NaN            NaN         NaN   54.500000            NaN   \n",
       "50%                NaN            NaN         NaN  108.000000            NaN   \n",
       "75%                NaN            NaN         NaN  161.500000            NaN   \n",
       "max                NaN            NaN         NaN  215.000000            NaN   \n",
       "\n",
       "       Rank.1  \n",
       "count     215  \n",
       "unique    210  \n",
       "top         -  \n",
       "freq        6  \n",
       "mean      NaN  \n",
       "std       NaN  \n",
       "min       NaN  \n",
       "25%       NaN  \n",
       "50%       NaN  \n",
       "75%       NaN  \n",
       "max       NaN  "
      ]
     },
     "execution_count": 31,
     "metadata": {},
     "output_type": "execute_result"
    }
   ],
   "source": [
    "df=pd.read_csv(\"List of Countries by number of Internet Users - Sheet1.csv\")\n",
    "df.info()\n",
    "df.describe(include='all')"
   ]
  },
  {
   "cell_type": "markdown",
   "metadata": {},
   "source": [
    "Here except for Rank ,all of the data variables are objects,Hence they need to be formatted,\n",
    "\n",
    "It is done by a data formatting function."
   ]
  },
  {
   "cell_type": "code",
   "execution_count": 32,
   "metadata": {},
   "outputs": [
    {
     "data": {
      "text/plain": [
       "count    2.150000e+02\n",
       "mean     1.703882e+07\n",
       "std      6.508647e+07\n",
       "min      3.610000e+02\n",
       "25%      3.405135e+05\n",
       "50%      2.505948e+06\n",
       "75%      8.887351e+06\n",
       "max      7.653679e+08\n",
       "Name: Internet Users, dtype: float64"
      ]
     },
     "execution_count": 32,
     "metadata": {},
     "output_type": "execute_result"
    }
   ],
   "source": [
    "def change_type(obj):\n",
    "    data_object=[]\n",
    "    for each in obj:\n",
    "        newVar=''\n",
    "        for var in each:\n",
    "            if(var!=','):\n",
    "                newVar+=var\n",
    "        newVar=int(newVar)\n",
    "        data_object.append(newVar)\n",
    "    obj=data_object\n",
    "    return obj\n",
    "obj=change_type(df['Internet Users'])\n",
    "df['Internet Users']=obj\n",
    "df['Internet Users'].describe()"
   ]
  },
  {
   "cell_type": "code",
   "execution_count": 33,
   "metadata": {},
   "outputs": [
    {
     "name": "stdout",
     "output_type": "stream",
     "text": [
      "3663346115\n"
     ]
    }
   ],
   "source": [
    "total_internet_users=sum(df['Internet Users'])\n",
    "print(total_internet_users)"
   ]
  },
  {
   "cell_type": "code",
   "execution_count": 59,
   "metadata": {},
   "outputs": [
    {
     "name": "stdout",
     "output_type": "stream",
     "text": [
      "13920715237.0\n"
     ]
    }
   ],
   "source": [
    "data_per_minute=3.8  #in MB\n",
    "total_data_per_minute=total_internet_users*data_per_minute\n",
    "print(total_data_per_minute)"
   ]
  },
  {
   "cell_type": "markdown",
   "metadata": {},
   "source": [
    "Now we have the details about the data generated in a minute worldwide!\n",
    "Lets begin to get our answers!<br>\n",
    "    &emsp;1.Before I start to answer, lets know what is a server, a cpu, a disk collectively.<br>\n",
    "    &emsp;2.What is a Computer and What is a server?<br>\n",
    "    &emsp;3.Both are the same, but a server CPU is more powerful than a normal Desktop computer CPU in our homes.Because the server is used to serve millions of users(clients) the data or information.A server can be a web server, data server, email server etc.,.<br>\n",
    "    &emsp;4.The Cpu in our desktops uses intel i5,i7 etc.,. A server CPU has 2 or more processors like intel xeon etc.,.<br>\n",
    "    &emsp;5.Disk is the secondary storage device used in a computer.The maximum disk capacity we have achieved now in 2020 is 16TB(terabytes).So a Desktop Disk can be 16TB.But the CPU should support the easy access of data from the Disks without any data loss or it will damage the disk.<br>\n",
    "    &emsp;6.Hence maximum disk capacity of a household desktop is 16TB.A server stores enormous amount of data working very efficiently 24 hours a day. So it is obvious that there is the probability of disk damage.<br>\n",
    "    &emsp;7.To prevent data loss RAID 5(redundancy array of independent disks), which stores additional set of hardisks to store the data and maintains a parity to acquire lost data.<br>\n",
    "    &emsp;8.Lets for instance assume we use 4 hard-disk drives ,where one disk will be utilized as a parity hence 3 disk of data in server.Hence a server disk capacity will be 16x3 TB i.e.,. 48TB.<br>\n",
    "    &emsp;9.A server uses 500W to 1200W power in an hour.On an average 850W power is used by a server in an hour.Hence 14W power is used by a server per minute.<br>\n",
    "    &emsp;10.The data used generated in a minute worldwide is 13 billion MB, which is 13,920 TB."
   ]
  },
  {
   "cell_type": "code",
   "execution_count": 60,
   "metadata": {},
   "outputs": [
    {
     "name": "stdout",
     "output_type": "stream",
     "text": [
      "The amount of data generated every minute is: 13920.715237 TB\n",
      "Disk Capacity will be at maximum: 16 TB\n",
      "Total number of servers needed to store this data: 871\n",
      "Total number of disks required: 3484\n",
      "Power required to run these servers: 12194 W, in terms of watt/hour: 203 w/h\n"
     ]
    }
   ],
   "source": [
    "server_capacity=16 #in TB\n",
    "total_data_per_minute/=1000000  #in TB\n",
    "power_of_server_per_minute=14   #in Watts\n",
    "#we compute servers required to store this data.\n",
    "\n",
    "required_server_per_minute=math.ceil(total_data_per_minute/server_capacity)\n",
    "total_power_per_minute=required_server_per_minute*power_of_server_per_minute\n",
    "total_number_of_disks=required_server_per_minute*4    #in TB\n",
    "each_disk_size=16   #in TB\n",
    "\n",
    "print(\"The amount of data generated every minute is:\",total_data_per_minute,\"TB\")\n",
    "print(\"Disk Capacity will be at maximum:\",server_capacity,\"TB\")\n",
    "print(\"Total number of servers needed to store this data:\",required_server_per_minute)\n",
    "print(\"Total number of disks required:\",total_number_of_disks)\n",
    "print(\"Power required to run these servers:\",total_power_per_minute,\"W, in terms of watt/hour:\",total_power_per_minute//60,\"w/h\")"
   ]
  },
  {
   "cell_type": "markdown",
   "metadata": {},
   "source": [
    "1.Number of users per a server will be same as the number of requests/operations that can be performed in a server.There will be 65536 ports(ports determine the task being performed in the server).<br>\n",
    "\n",
    "2.Hence,Number of users per server is 65536(at max).<br>\n",
    "3.Response time is the time required to get request ans send the response.All of the data transfer through the switches,routers,servers,ports etc.,. takes place in just 0.1ms - 1000 ms in a responsive client - server application.\n",
    "4.The response increases if the load is larger or the number of requests are higher.Also depending upon the bandwidth the response time increases.\n",
    "\n",
    "\n",
    "More anlysis to be done....\n",
    "Open to suggestions........."
   ]
  }
 ],
 "metadata": {
  "kernelspec": {
   "display_name": "Python 3",
   "language": "python",
   "name": "python3"
  },
  "language_info": {
   "codemirror_mode": {
    "name": "ipython",
    "version": 3
   },
   "file_extension": ".py",
   "mimetype": "text/x-python",
   "name": "python",
   "nbconvert_exporter": "python",
   "pygments_lexer": "ipython3",
   "version": "3.7.4"
  }
 },
 "nbformat": 4,
 "nbformat_minor": 2
}
